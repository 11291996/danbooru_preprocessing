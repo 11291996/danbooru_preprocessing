{
 "cells": [
  {
   "cell_type": "code",
   "execution_count": 1,
   "metadata": {},
   "outputs": [
    {
     "name": "stdout",
     "output_type": "stream",
     "text": [
      "Files in subset folder :  328\n",
      "Sampling from :  1000  files.\n"
     ]
    },
    {
     "name": "stderr",
     "output_type": "stream",
     "text": [
      "  0%|          | 0/100000 [00:00<?, ?it/s]"
     ]
    },
    {
     "name": "stderr",
     "output_type": "stream",
     "text": [
      "  1%|          | 836/100000 [00:03<06:36, 250.21it/s]\n"
     ]
    }
   ],
   "source": [
    "from utils import filter_sfw, create_subset\n",
    "\n",
    "create_subset(dataset=f\"/home/paneah/danbooru_preprocessing/subset-1000b/\",count=100000,seed=42,path=\"/home/paneah/danbooru_preprocessing/nsfw\",filter_func=filter_sfw,behavior=\"copy\")"
   ]
  }
 ],
 "metadata": {
  "kernelspec": {
   "display_name": "danbooru",
   "language": "python",
   "name": "python3"
  },
  "language_info": {
   "codemirror_mode": {
    "name": "ipython",
    "version": 3
   },
   "file_extension": ".py",
   "mimetype": "text/x-python",
   "name": "python",
   "nbconvert_exporter": "python",
   "pygments_lexer": "ipython3",
   "version": "3.9.18"
  }
 },
 "nbformat": 4,
 "nbformat_minor": 2
}
